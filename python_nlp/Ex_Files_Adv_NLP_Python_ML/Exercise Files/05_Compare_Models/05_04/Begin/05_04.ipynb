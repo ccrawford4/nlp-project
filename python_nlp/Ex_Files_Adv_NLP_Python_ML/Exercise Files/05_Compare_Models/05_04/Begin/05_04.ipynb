{
 "cells": [
  {
   "cell_type": "markdown",
   "metadata": {},
   "source": [
    "# Compare NLP Techniques: Build Model On doc2vec Vectors"
   ]
  },
  {
   "cell_type": "markdown",
   "metadata": {},
   "source": [
    "### Read In Cleaned Text"
   ]
  },
  {
   "cell_type": "code",
   "execution_count": 1,
   "metadata": {},
   "outputs": [],
   "source": [
    "# Load the cleaned training and test sets\n",
    "import gensim\n",
    "import numpy as np\n",
    "import pandas as pd\n",
    "\n",
    "X_train = pd.read_csv('../../../data/X_train.csv')\n",
    "X_test = pd.read_csv('../../../data/X_test.csv')\n",
    "y_train = pd.read_csv('../../../data/y_train.csv')\n",
    "y_test = pd.read_csv('../../../data/y_test.csv')"
   ]
  },
  {
   "cell_type": "markdown",
   "metadata": {},
   "source": [
    "### Create doc2vec Vectors"
   ]
  },
  {
   "cell_type": "code",
   "execution_count": 2,
   "metadata": {},
   "outputs": [],
   "source": [
    "# Created TaggedDocument vectors for each text message in the training and test sets\n",
    "tagged_docs_train = [gensim.models.doc2vec.TaggedDocument(v, [i])\n",
    "                     for i, v in enumerate(X_train['clean_text'])]\n",
    "tagged_docs_test = [gensim.models.doc2vec.TaggedDocument(v, [i])\n",
    "                    for i, v in enumerate(X_test['clean_text'])]"
   ]
  },
  {
   "cell_type": "code",
   "execution_count": 3,
   "metadata": {},
   "outputs": [
    {
     "data": {
      "text/plain": [
       "[TaggedDocument(words=\"['brainless', 'baby', 'dolld', 'vehicle', 'sariyag', 'drive', 'madoke', 'barolla']\", tags=[0]),\n",
       " TaggedDocument(words=\"['nimbomsons', 'yep', 'phone', 'knows', 'one', 'obviously', 'cos', 'thats', 'real', 'word']\", tags=[1]),\n",
       " TaggedDocument(words=\"['record', 'one', 'night', '']\", tags=[2]),\n",
       " TaggedDocument(words=\"['went', 'attend', 'another', 'two', 'rounds', 'todaybut', 'still', 'didt', 'reach', 'home']\", tags=[3]),\n",
       " TaggedDocument(words=\"['hi', 'juan', 'im', 'coming', 'home', 'fri', 'hey', 'course', 'expect', 'welcome', 'party', 'lots', 'presents', 'ill', 'phone', 'u', 'get', 'back', 'loads', 'love', 'nicky', 'x', 'x', 'x', 'x', 'x', 'x', 'x', 'x', 'x']\", tags=[4]),\n",
       " TaggedDocument(words=\"['kallis', 'ready', 'bat', '2nd', 'innings']\", tags=[5]),\n",
       " TaggedDocument(words=\"['arun', 'u', 'transfr', 'amt']\", tags=[6]),\n",
       " TaggedDocument(words=\"['short', 'cute', 'good', 'person']\", tags=[7]),\n",
       " TaggedDocument(words=\"['nah', 'dub', 'je', 'still', 'buff']\", tags=[8]),\n",
       " TaggedDocument(words=\"['u', 'wearing']\", tags=[9])]"
      ]
     },
     "execution_count": 3,
     "metadata": {},
     "output_type": "execute_result"
    }
   ],
   "source": [
    "# What do these TaggedDocument objects look like?\n",
    "tagged_docs_train[:10]"
   ]
  },
  {
   "cell_type": "code",
   "execution_count": 4,
   "metadata": {},
   "outputs": [],
   "source": [
    "# Train a basic doc2vec model\n",
    "d2v_model = gensim.models.Doc2Vec(tagged_docs_train, vector_size=100, window=5, min_count=2)"
   ]
  },
  {
   "cell_type": "code",
   "execution_count": 6,
   "metadata": {},
   "outputs": [],
   "source": [
    "# Infer the vectors to be used in training and testing\n",
    "train_vectors = [d2v_model.infer_vector(eval(v.words)) for v in tagged_docs_train]\n",
    "test_vectors = [d2v_model.infer_vector(eval(v.words)) for v in tagged_docs_test]"
   ]
  },
  {
   "cell_type": "markdown",
   "metadata": {},
   "source": [
    "### Fit RandomForestClassifier On Top Of Document Vectors"
   ]
  },
  {
   "cell_type": "code",
   "execution_count": 7,
   "metadata": {},
   "outputs": [
    {
     "name": "stdout",
     "output_type": "stream",
     "text": [
      "Precision: 0.949 / Recall: 0.439 / Accuracy: 0.91\n"
     ]
    }
   ],
   "source": [
    "# Fit a basic model, make predictions on the holdout test set, and the generate the evaluation metrics\n",
    "from sklearn.ensemble import RandomForestClassifier\n",
    "from sklearn.metrics import precision_score, recall_score\n",
    "\n",
    "rf = RandomForestClassifier()\n",
    "rf_model = rf.fit(train_vectors, y_train.values.ravel())\n",
    "\n",
    "y_pred = rf_model.predict(test_vectors)\n",
    "\n",
    "precision = precision_score(y_test, y_pred)\n",
    "recall = recall_score(y_test, y_pred)\n",
    "print('Precision: {} / Recall: {} / Accuracy: {}'.format(\n",
    "    round(precision, 3), round(recall, 3), round((y_pred==y_test['label']).sum()/len(y_pred), 3)))"
   ]
  }
 ],
 "metadata": {
  "kernelspec": {
   "display_name": "Python 3",
   "language": "python",
   "name": "python3"
  },
  "language_info": {
   "codemirror_mode": {
    "name": "ipython",
    "version": 3
   },
   "file_extension": ".py",
   "mimetype": "text/x-python",
   "name": "python",
   "nbconvert_exporter": "python",
   "pygments_lexer": "ipython3",
   "version": "3.9.18"
  }
 },
 "nbformat": 4,
 "nbformat_minor": 2
}
