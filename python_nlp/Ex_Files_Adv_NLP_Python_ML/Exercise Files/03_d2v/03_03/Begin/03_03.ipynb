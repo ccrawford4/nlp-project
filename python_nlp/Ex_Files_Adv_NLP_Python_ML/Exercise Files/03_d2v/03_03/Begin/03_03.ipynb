{
 "cells": [
  {
   "cell_type": "markdown",
   "metadata": {},
   "source": [
    "# doc2vec: How To Implement doc2vec"
   ]
  },
  {
   "cell_type": "markdown",
   "metadata": {},
   "source": [
    "### Train Our Own Model"
   ]
  },
  {
   "cell_type": "code",
   "execution_count": 1,
   "metadata": {},
   "outputs": [],
   "source": [
    "# Read in data, clean it, and then split into train and test sets\n",
    "import gensim\n",
    "import pandas as pd\n",
    "from sklearn.model_selection import train_test_split\n",
    "pd.set_option('display.max_colwidth', 100)\n",
    "\n",
    "messages = pd.read_csv('../../../data/spam.csv', encoding='latin-1')\n",
    "messages = messages.drop(labels = [\"Unnamed: 2\", \"Unnamed: 3\", \"Unnamed: 4\"], axis = 1)\n",
    "messages.columns = [\"label\", \"text\"]\n",
    "messages['text_clean'] = messages['text'].apply(lambda x: gensim.utils.simple_preprocess(x))\n",
    "\n",
    "X_train, X_test, y_train, y_test = train_test_split(messages['text_clean'],\n",
    "                                                    messages['label'], test_size=0.2)"
   ]
  },
  {
   "cell_type": "code",
   "execution_count": 3,
   "metadata": {},
   "outputs": [],
   "source": [
    "# Create tagged document objects to prepare to train the model\n",
    "tagged_docs = [gensim.models.doc2vec.TaggedDocument(v, [i]) for i, v in enumerate(X_train)]"
   ]
  },
  {
   "cell_type": "code",
   "execution_count": 4,
   "metadata": {},
   "outputs": [
    {
     "data": {
      "text/plain": [
       "TaggedDocument(words=['ffffffffff', 'alright', 'no', 'way', 'can', 'meet', 'up', 'with', 'you', 'sooner'], tags=[0])"
      ]
     },
     "execution_count": 4,
     "metadata": {},
     "output_type": "execute_result"
    }
   ],
   "source": [
    "# Look at what a tagged document looks like\n",
    "tagged_docs[0]"
   ]
  },
  {
   "cell_type": "code",
   "execution_count": 5,
   "metadata": {},
   "outputs": [],
   "source": [
    "# Train a basic doc2vec model\n",
    "d2v_model = gensim.models.Doc2Vec(tagged_docs,\n",
    "                                 vector_size=100,\n",
    "                                 window=5,\n",
    "                                 min_count=2)"
   ]
  },
  {
   "cell_type": "code",
   "execution_count": 6,
   "metadata": {},
   "outputs": [
    {
     "ename": "TypeError",
     "evalue": "Parameter doc_words of infer_vector() must be a list of strings (not a single string).",
     "output_type": "error",
     "traceback": [
      "\u001b[0;31m---------------------------------------------------------------------------\u001b[0m",
      "\u001b[0;31mTypeError\u001b[0m                                 Traceback (most recent call last)",
      "Cell \u001b[0;32mIn[6], line 2\u001b[0m\n\u001b[1;32m      1\u001b[0m \u001b[38;5;66;03m# What happens if we pass in a single word like we did for word2vec?\u001b[39;00m\n\u001b[0;32m----> 2\u001b[0m \u001b[43md2v_model\u001b[49m\u001b[38;5;241;43m.\u001b[39;49m\u001b[43minfer_vector\u001b[49m\u001b[43m(\u001b[49m\u001b[38;5;124;43m'\u001b[39;49m\u001b[38;5;124;43mtext\u001b[39;49m\u001b[38;5;124;43m'\u001b[39;49m\u001b[43m)\u001b[49m\n",
      "File \u001b[0;32m~/anaconda3/lib/python3.10/site-packages/gensim/models/doc2vec.py:622\u001b[0m, in \u001b[0;36mDoc2Vec.infer_vector\u001b[0;34m(self, doc_words, alpha, min_alpha, epochs)\u001b[0m\n\u001b[1;32m    594\u001b[0m \u001b[38;5;124;03m\"\"\"Infer a vector for given post-bulk training document.\u001b[39;00m\n\u001b[1;32m    595\u001b[0m \n\u001b[1;32m    596\u001b[0m \u001b[38;5;124;03mNotes\u001b[39;00m\n\u001b[0;32m   (...)\u001b[0m\n\u001b[1;32m    619\u001b[0m \n\u001b[1;32m    620\u001b[0m \u001b[38;5;124;03m\"\"\"\u001b[39;00m\n\u001b[1;32m    621\u001b[0m \u001b[38;5;28;01mif\u001b[39;00m \u001b[38;5;28misinstance\u001b[39m(doc_words, \u001b[38;5;28mstr\u001b[39m):  \u001b[38;5;66;03m# a common mistake; fail with a nicer error\u001b[39;00m\n\u001b[0;32m--> 622\u001b[0m     \u001b[38;5;28;01mraise\u001b[39;00m \u001b[38;5;167;01mTypeError\u001b[39;00m(\u001b[38;5;124m\"\u001b[39m\u001b[38;5;124mParameter doc_words of infer_vector() must be a list of strings (not a single string).\u001b[39m\u001b[38;5;124m\"\u001b[39m)\n\u001b[1;32m    624\u001b[0m alpha \u001b[38;5;241m=\u001b[39m alpha \u001b[38;5;129;01mor\u001b[39;00m \u001b[38;5;28mself\u001b[39m\u001b[38;5;241m.\u001b[39malpha\n\u001b[1;32m    625\u001b[0m min_alpha \u001b[38;5;241m=\u001b[39m min_alpha \u001b[38;5;129;01mor\u001b[39;00m \u001b[38;5;28mself\u001b[39m\u001b[38;5;241m.\u001b[39mmin_alpha\n",
      "\u001b[0;31mTypeError\u001b[0m: Parameter doc_words of infer_vector() must be a list of strings (not a single string)."
     ]
    }
   ],
   "source": [
    "# What happens if we pass in a single word like we did for word2vec?\n",
    "d2v_model.infer_vector('text')"
   ]
  },
  {
   "cell_type": "code",
   "execution_count": 7,
   "metadata": {},
   "outputs": [
    {
     "data": {
      "text/plain": [
       "array([-4.67233919e-03,  1.76530443e-02,  3.56972427e-03, -4.47185012e-03,\n",
       "       -2.67395610e-03, -2.86629833e-02, -2.15632981e-03,  3.24200056e-02,\n",
       "       -1.15820765e-02, -1.68551374e-02, -8.69195629e-03, -2.30628233e-02,\n",
       "        6.38049387e-05,  6.91069756e-03,  3.55699705e-03, -2.48369686e-02,\n",
       "        1.09322099e-02, -1.58905126e-02, -8.00711010e-03, -2.38338672e-02,\n",
       "        5.36618475e-03,  9.83556546e-03,  4.76273894e-03, -8.40839278e-03,\n",
       "        9.84873739e-04,  5.48338518e-03, -1.32455993e-02, -2.36246060e-03,\n",
       "       -8.47336091e-03,  6.49851793e-03,  1.84935685e-02,  1.44915516e-03,\n",
       "        6.72278088e-03, -1.29135912e-02, -4.74671461e-03,  1.74263120e-02,\n",
       "        4.10890300e-03, -1.89434271e-02, -1.37343826e-02, -2.43625045e-02,\n",
       "       -7.16899103e-03, -1.55243566e-02, -3.10475659e-03, -8.59075133e-03,\n",
       "        1.75379906e-02, -4.39357292e-03, -1.50317540e-02, -1.36221980e-03,\n",
       "        1.38186226e-02,  1.39956148e-02,  1.02134915e-02, -1.66556947e-02,\n",
       "        5.08253090e-03, -9.09924321e-03, -5.39772119e-03,  1.02663701e-02,\n",
       "        2.89795385e-03,  3.46306735e-03, -1.56945549e-02,  6.64130086e-03,\n",
       "        8.11927859e-03,  3.08350031e-03, -1.15514314e-02, -5.02185151e-03,\n",
       "       -1.66955423e-02,  2.00096015e-02,  1.16050020e-02,  1.11105582e-02,\n",
       "       -2.07468644e-02,  2.17872597e-02, -5.78882685e-03,  1.42447026e-02,\n",
       "        1.97105408e-02, -2.61567486e-03,  2.65515503e-02,  1.47087350e-02,\n",
       "       -6.01073820e-03, -2.73538288e-03, -1.02642355e-02,  3.90745187e-03,\n",
       "       -1.35266641e-02,  1.04182791e-02, -1.18225114e-02,  2.67553795e-02,\n",
       "       -8.47915839e-03,  3.57502257e-03,  4.12465725e-03,  8.25085957e-03,\n",
       "        1.87079273e-02,  1.65876895e-02,  1.60224289e-02,  2.08813306e-02,\n",
       "        2.60009198e-04,  9.17486288e-03,  2.72447448e-02,  1.69527624e-02,\n",
       "        5.79279056e-03, -2.01061256e-02,  5.45274559e-03, -1.89542538e-03],\n",
       "      dtype=float32)"
      ]
     },
     "execution_count": 7,
     "metadata": {},
     "output_type": "execute_result"
    }
   ],
   "source": [
    "# What happens if we pass in a list of words?\n",
    "d2v_model.infer_vector(['i', 'am', 'learning', 'nlp'])"
   ]
  },
  {
   "cell_type": "markdown",
   "metadata": {},
   "source": [
    "### What About Pre-trained Document Vectors?\n",
    "\n",
    "There are not as many options as there are for word vectors. There also is not an easy API to read these in like there is for `word2vec` so it is more time consuming.\n",
    "\n",
    "Pre-trained vectors from training on Wikipedia and Associated Press News can be found [here](https://github.com/jhlau/doc2vec). Feel free to explore on your own!"
   ]
  }
 ],
 "metadata": {
  "kernelspec": {
   "display_name": "Python 3 (ipykernel)",
   "language": "python",
   "name": "python3"
  },
  "language_info": {
   "codemirror_mode": {
    "name": "ipython",
    "version": 3
   },
   "file_extension": ".py",
   "mimetype": "text/x-python",
   "name": "python",
   "nbconvert_exporter": "python",
   "pygments_lexer": "ipython3",
   "version": "3.10.9"
  }
 },
 "nbformat": 4,
 "nbformat_minor": 1
}
